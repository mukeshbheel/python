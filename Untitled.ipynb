{
 "cells": [
  {
   "cell_type": "code",
   "execution_count": 9,
   "id": "5bfb0025-762e-4ae2-8c5b-fcc890981744",
   "metadata": {},
   "outputs": [],
   "source": [
    "import numpy as np\n",
    "import pandas as pd\n",
    "import matplotlib.pyplot as plt\n",
    "%matplotlib inline\n",
    "\n",
    "from sklearn.linear_model import LinearRegression"
   ]
  },
  {
   "cell_type": "code",
   "execution_count": 11,
   "id": "7091483a-0054-4be8-8b19-ce442ce09caa",
   "metadata": {},
   "outputs": [
    {
     "data": {
      "text/html": [
       "<div>\n",
       "<style scoped>\n",
       "    .dataframe tbody tr th:only-of-type {\n",
       "        vertical-align: middle;\n",
       "    }\n",
       "\n",
       "    .dataframe tbody tr th {\n",
       "        vertical-align: top;\n",
       "    }\n",
       "\n",
       "    .dataframe thead th {\n",
       "        text-align: right;\n",
       "    }\n",
       "</style>\n",
       "<table border=\"1\" class=\"dataframe\">\n",
       "  <thead>\n",
       "    <tr style=\"text-align: right;\">\n",
       "      <th></th>\n",
       "      <th>Experience Years</th>\n",
       "      <th>Salary</th>\n",
       "    </tr>\n",
       "  </thead>\n",
       "  <tbody>\n",
       "    <tr>\n",
       "      <th>0</th>\n",
       "      <td>1.1</td>\n",
       "      <td>39343</td>\n",
       "    </tr>\n",
       "    <tr>\n",
       "      <th>1</th>\n",
       "      <td>1.2</td>\n",
       "      <td>42774</td>\n",
       "    </tr>\n",
       "    <tr>\n",
       "      <th>2</th>\n",
       "      <td>1.3</td>\n",
       "      <td>46205</td>\n",
       "    </tr>\n",
       "    <tr>\n",
       "      <th>3</th>\n",
       "      <td>1.5</td>\n",
       "      <td>37731</td>\n",
       "    </tr>\n",
       "    <tr>\n",
       "      <th>4</th>\n",
       "      <td>2.0</td>\n",
       "      <td>43525</td>\n",
       "    </tr>\n",
       "    <tr>\n",
       "      <th>5</th>\n",
       "      <td>2.2</td>\n",
       "      <td>39891</td>\n",
       "    </tr>\n",
       "    <tr>\n",
       "      <th>6</th>\n",
       "      <td>2.5</td>\n",
       "      <td>48266</td>\n",
       "    </tr>\n",
       "    <tr>\n",
       "      <th>7</th>\n",
       "      <td>2.9</td>\n",
       "      <td>56642</td>\n",
       "    </tr>\n",
       "    <tr>\n",
       "      <th>8</th>\n",
       "      <td>3.0</td>\n",
       "      <td>60150</td>\n",
       "    </tr>\n",
       "    <tr>\n",
       "      <th>9</th>\n",
       "      <td>3.2</td>\n",
       "      <td>54445</td>\n",
       "    </tr>\n",
       "    <tr>\n",
       "      <th>10</th>\n",
       "      <td>3.2</td>\n",
       "      <td>64445</td>\n",
       "    </tr>\n",
       "    <tr>\n",
       "      <th>11</th>\n",
       "      <td>3.5</td>\n",
       "      <td>60000</td>\n",
       "    </tr>\n",
       "    <tr>\n",
       "      <th>12</th>\n",
       "      <td>3.7</td>\n",
       "      <td>57189</td>\n",
       "    </tr>\n",
       "    <tr>\n",
       "      <th>13</th>\n",
       "      <td>3.8</td>\n",
       "      <td>60200</td>\n",
       "    </tr>\n",
       "    <tr>\n",
       "      <th>14</th>\n",
       "      <td>3.9</td>\n",
       "      <td>63218</td>\n",
       "    </tr>\n",
       "    <tr>\n",
       "      <th>15</th>\n",
       "      <td>4.0</td>\n",
       "      <td>55794</td>\n",
       "    </tr>\n",
       "    <tr>\n",
       "      <th>16</th>\n",
       "      <td>4.0</td>\n",
       "      <td>56957</td>\n",
       "    </tr>\n",
       "    <tr>\n",
       "      <th>17</th>\n",
       "      <td>4.1</td>\n",
       "      <td>57081</td>\n",
       "    </tr>\n",
       "    <tr>\n",
       "      <th>18</th>\n",
       "      <td>4.3</td>\n",
       "      <td>59095</td>\n",
       "    </tr>\n",
       "    <tr>\n",
       "      <th>19</th>\n",
       "      <td>4.5</td>\n",
       "      <td>61111</td>\n",
       "    </tr>\n",
       "    <tr>\n",
       "      <th>20</th>\n",
       "      <td>4.7</td>\n",
       "      <td>64500</td>\n",
       "    </tr>\n",
       "    <tr>\n",
       "      <th>21</th>\n",
       "      <td>4.9</td>\n",
       "      <td>67938</td>\n",
       "    </tr>\n",
       "    <tr>\n",
       "      <th>22</th>\n",
       "      <td>5.1</td>\n",
       "      <td>66029</td>\n",
       "    </tr>\n",
       "    <tr>\n",
       "      <th>23</th>\n",
       "      <td>5.3</td>\n",
       "      <td>83088</td>\n",
       "    </tr>\n",
       "    <tr>\n",
       "      <th>24</th>\n",
       "      <td>5.5</td>\n",
       "      <td>82200</td>\n",
       "    </tr>\n",
       "    <tr>\n",
       "      <th>25</th>\n",
       "      <td>5.9</td>\n",
       "      <td>81363</td>\n",
       "    </tr>\n",
       "    <tr>\n",
       "      <th>26</th>\n",
       "      <td>6.0</td>\n",
       "      <td>93940</td>\n",
       "    </tr>\n",
       "    <tr>\n",
       "      <th>27</th>\n",
       "      <td>6.2</td>\n",
       "      <td>91000</td>\n",
       "    </tr>\n",
       "    <tr>\n",
       "      <th>28</th>\n",
       "      <td>6.5</td>\n",
       "      <td>90000</td>\n",
       "    </tr>\n",
       "    <tr>\n",
       "      <th>29</th>\n",
       "      <td>6.8</td>\n",
       "      <td>91738</td>\n",
       "    </tr>\n",
       "    <tr>\n",
       "      <th>30</th>\n",
       "      <td>7.1</td>\n",
       "      <td>98273</td>\n",
       "    </tr>\n",
       "    <tr>\n",
       "      <th>31</th>\n",
       "      <td>7.9</td>\n",
       "      <td>101302</td>\n",
       "    </tr>\n",
       "    <tr>\n",
       "      <th>32</th>\n",
       "      <td>8.2</td>\n",
       "      <td>113812</td>\n",
       "    </tr>\n",
       "    <tr>\n",
       "      <th>33</th>\n",
       "      <td>8.5</td>\n",
       "      <td>111620</td>\n",
       "    </tr>\n",
       "    <tr>\n",
       "      <th>34</th>\n",
       "      <td>8.7</td>\n",
       "      <td>109431</td>\n",
       "    </tr>\n",
       "    <tr>\n",
       "      <th>35</th>\n",
       "      <td>9.0</td>\n",
       "      <td>105582</td>\n",
       "    </tr>\n",
       "    <tr>\n",
       "      <th>36</th>\n",
       "      <td>9.5</td>\n",
       "      <td>116969</td>\n",
       "    </tr>\n",
       "    <tr>\n",
       "      <th>37</th>\n",
       "      <td>9.6</td>\n",
       "      <td>112635</td>\n",
       "    </tr>\n",
       "    <tr>\n",
       "      <th>38</th>\n",
       "      <td>10.3</td>\n",
       "      <td>122391</td>\n",
       "    </tr>\n",
       "    <tr>\n",
       "      <th>39</th>\n",
       "      <td>10.5</td>\n",
       "      <td>121872</td>\n",
       "    </tr>\n",
       "  </tbody>\n",
       "</table>\n",
       "</div>"
      ],
      "text/plain": [
       "    Experience Years  Salary\n",
       "0                1.1   39343\n",
       "1                1.2   42774\n",
       "2                1.3   46205\n",
       "3                1.5   37731\n",
       "4                2.0   43525\n",
       "5                2.2   39891\n",
       "6                2.5   48266\n",
       "7                2.9   56642\n",
       "8                3.0   60150\n",
       "9                3.2   54445\n",
       "10               3.2   64445\n",
       "11               3.5   60000\n",
       "12               3.7   57189\n",
       "13               3.8   60200\n",
       "14               3.9   63218\n",
       "15               4.0   55794\n",
       "16               4.0   56957\n",
       "17               4.1   57081\n",
       "18               4.3   59095\n",
       "19               4.5   61111\n",
       "20               4.7   64500\n",
       "21               4.9   67938\n",
       "22               5.1   66029\n",
       "23               5.3   83088\n",
       "24               5.5   82200\n",
       "25               5.9   81363\n",
       "26               6.0   93940\n",
       "27               6.2   91000\n",
       "28               6.5   90000\n",
       "29               6.8   91738\n",
       "30               7.1   98273\n",
       "31               7.9  101302\n",
       "32               8.2  113812\n",
       "33               8.5  111620\n",
       "34               8.7  109431\n",
       "35               9.0  105582\n",
       "36               9.5  116969\n",
       "37               9.6  112635\n",
       "38              10.3  122391\n",
       "39              10.5  121872"
      ]
     },
     "execution_count": 11,
     "metadata": {},
     "output_type": "execute_result"
    }
   ],
   "source": [
    "df = pd.read_csv(\"salaryData/SalaryPrediction.csv\")\n",
    "df"
   ]
  },
  {
   "cell_type": "code",
   "execution_count": 18,
   "id": "6b9a4d20-b023-42e4-827b-91025bc7e898",
   "metadata": {},
   "outputs": [
    {
     "data": {
      "text/plain": [
       "0      1.1\n",
       "1      1.2\n",
       "2      1.3\n",
       "3      1.5\n",
       "4      2.0\n",
       "5      2.2\n",
       "6      2.5\n",
       "7      2.9\n",
       "8      3.0\n",
       "9      3.2\n",
       "10     3.2\n",
       "11     3.5\n",
       "12     3.7\n",
       "13     3.8\n",
       "14     3.9\n",
       "15     4.0\n",
       "16     4.0\n",
       "17     4.1\n",
       "18     4.3\n",
       "19     4.5\n",
       "20     4.7\n",
       "21     4.9\n",
       "22     5.1\n",
       "23     5.3\n",
       "24     5.5\n",
       "25     5.9\n",
       "26     6.0\n",
       "27     6.2\n",
       "28     6.5\n",
       "29     6.8\n",
       "30     7.1\n",
       "31     7.9\n",
       "32     8.2\n",
       "33     8.5\n",
       "34     8.7\n",
       "35     9.0\n",
       "36     9.5\n",
       "37     9.6\n",
       "38    10.3\n",
       "39    10.5\n",
       "Name: Experience Years, dtype: float64"
      ]
     },
     "execution_count": 18,
     "metadata": {},
     "output_type": "execute_result"
    }
   ],
   "source": [
    "x = df.iloc[:, 0]\n",
    "x"
   ]
  },
  {
   "cell_type": "code",
   "execution_count": 19,
   "id": "fb55b87d-494d-4cbb-b2d7-794d51bbe1b8",
   "metadata": {},
   "outputs": [
    {
     "data": {
      "text/plain": [
       "array([ 1.1,  1.2,  1.3,  1.5,  2. ,  2.2,  2.5,  2.9,  3. ,  3.2,  3.2,\n",
       "        3.5,  3.7,  3.8,  3.9,  4. ,  4. ,  4.1,  4.3,  4.5,  4.7,  4.9,\n",
       "        5.1,  5.3,  5.5,  5.9,  6. ,  6.2,  6.5,  6.8,  7.1,  7.9,  8.2,\n",
       "        8.5,  8.7,  9. ,  9.5,  9.6, 10.3, 10.5])"
      ]
     },
     "execution_count": 19,
     "metadata": {},
     "output_type": "execute_result"
    }
   ],
   "source": [
    "x = df.iloc[:,0].values\n",
    "x"
   ]
  },
  {
   "cell_type": "code",
   "execution_count": 20,
   "id": "3991cefc-adea-4ddf-923b-666ffcf13a44",
   "metadata": {},
   "outputs": [
    {
     "data": {
      "text/plain": [
       "(40,)"
      ]
     },
     "execution_count": 20,
     "metadata": {},
     "output_type": "execute_result"
    }
   ],
   "source": [
    "x.shape"
   ]
  },
  {
   "cell_type": "code",
   "execution_count": 21,
   "id": "1602924f-5888-42b8-ab6b-5891e4a7b6c8",
   "metadata": {},
   "outputs": [
    {
     "data": {
      "text/plain": [
       "array([[ 1.1],\n",
       "       [ 1.2],\n",
       "       [ 1.3],\n",
       "       [ 1.5],\n",
       "       [ 2. ],\n",
       "       [ 2.2],\n",
       "       [ 2.5],\n",
       "       [ 2.9],\n",
       "       [ 3. ],\n",
       "       [ 3.2],\n",
       "       [ 3.2],\n",
       "       [ 3.5],\n",
       "       [ 3.7],\n",
       "       [ 3.8],\n",
       "       [ 3.9],\n",
       "       [ 4. ],\n",
       "       [ 4. ],\n",
       "       [ 4.1],\n",
       "       [ 4.3],\n",
       "       [ 4.5],\n",
       "       [ 4.7],\n",
       "       [ 4.9],\n",
       "       [ 5.1],\n",
       "       [ 5.3],\n",
       "       [ 5.5],\n",
       "       [ 5.9],\n",
       "       [ 6. ],\n",
       "       [ 6.2],\n",
       "       [ 6.5],\n",
       "       [ 6.8],\n",
       "       [ 7.1],\n",
       "       [ 7.9],\n",
       "       [ 8.2],\n",
       "       [ 8.5],\n",
       "       [ 8.7],\n",
       "       [ 9. ],\n",
       "       [ 9.5],\n",
       "       [ 9.6],\n",
       "       [10.3],\n",
       "       [10.5]])"
      ]
     },
     "execution_count": 21,
     "metadata": {},
     "output_type": "execute_result"
    }
   ],
   "source": [
    "x = df.iloc[:,0].values.reshape(-1,1)\n",
    "x"
   ]
  },
  {
   "cell_type": "code",
   "execution_count": 22,
   "id": "7b38a6a9-9dff-4433-ab3e-85811fe86496",
   "metadata": {},
   "outputs": [
    {
     "data": {
      "text/plain": [
       "(40, 1)"
      ]
     },
     "execution_count": 22,
     "metadata": {},
     "output_type": "execute_result"
    }
   ],
   "source": [
    "x.shape"
   ]
  },
  {
   "cell_type": "code",
   "execution_count": 23,
   "id": "ec2c256d-412c-405f-9b64-238d8c4663f8",
   "metadata": {},
   "outputs": [
    {
     "data": {
      "text/plain": [
       "array([ 39343,  42774,  46205,  37731,  43525,  39891,  48266,  56642,\n",
       "        60150,  54445,  64445,  60000,  57189,  60200,  63218,  55794,\n",
       "        56957,  57081,  59095,  61111,  64500,  67938,  66029,  83088,\n",
       "        82200,  81363,  93940,  91000,  90000,  91738,  98273, 101302,\n",
       "       113812, 111620, 109431, 105582, 116969, 112635, 122391, 121872])"
      ]
     },
     "execution_count": 23,
     "metadata": {},
     "output_type": "execute_result"
    }
   ],
   "source": [
    "y = df.iloc[:,1].values\n",
    "y"
   ]
  },
  {
   "cell_type": "code",
   "execution_count": 28,
   "id": "5aabe7cf-bc80-4d23-a7cc-224b5245a1e8",
   "metadata": {},
   "outputs": [
    {
     "data": {
      "text/plain": [
       "Text(0, 0.5, 'Monthly Salary in INR')"
      ]
     },
     "execution_count": 28,
     "metadata": {},
     "output_type": "execute_result"
    },
    {
     "data": {
      "image/png": "[encoded data removed]",
      "text/plain": [
       "<Figure size 640x480 with 1 Axes>"
      ]
     },
     "metadata": {},
     "output_type": "display_data"
    }
   ],
   "source": [
    "plt.scatter(x, y)\n",
    "plt.title(\"Monthly salary based on year of experience\")\n",
    "plt.xlabel(\"Exprerience in Years\")\n",
    "plt.ylabel(\"Monthly Salary in INR\")"
   ]
  },
  {
   "cell_type": "code",
   "execution_count": null,
   "id": "a7cc7e53-9c3e-43ec-a1ba-8f677f45500d",
   "metadata": {},
   "outputs": [],
   "source": []
  }
 ],
 "metadata": {
  "kernelspec": {
   "display_name": "Python 3 (ipykernel)",
   "language": "python",
   "name": "python3"
  },
  "language_info": {
   "codemirror_mode": {
    "name": "ipython",
    "version": 3
   },
   "file_extension": ".py",
   "mimetype": "text/x-python",
   "name": "python",
   "nbconvert_exporter": "python",
   "pygments_lexer": "ipython3",
   "version": "3.8.10"
  }
 },
 "nbformat": 4,
 "nbformat_minor": 5
}
